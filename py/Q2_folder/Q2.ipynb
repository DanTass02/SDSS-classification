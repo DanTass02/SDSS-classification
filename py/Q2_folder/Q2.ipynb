{
 "cells": [
  {
   "cell_type": "markdown",
   "metadata": {},
   "source": [
    "# SDSS DR14 classification using neural networks \n",
    "\n",
    "Having previously explored how to classify the celestial objects from this data set using a decision tree, we will now look at a neural network (NN) approach and compare the two approaches."
   ]
  },
  {
   "cell_type": "markdown",
   "metadata": {},
   "source": [
    "# Installing necessary libraries\n",
    "\n",
    "Once again we begin by installing the libraries that we require to build our NN.\n",
    "Generally, the main library used for building these NNs is `TensorFlow`, but here we will be using `PyTorch` as here we can take a more detailed look into what is happeing behind the scenes of the NN."
   ]
  },
  {
   "cell_type": "code",
   "execution_count": null,
   "metadata": {},
   "outputs": [],
   "source": [
    "import torch\n",
    "import torch.nn as nn\n",
    "import torch.optim as optim\n",
    "from torch.utils.data import DataLoader, TensorDataset\n",
    "from sklearn.model_selection import train_test_split\n",
    "from sklearn.preprocessing import LabelEncoder, StandardScaler\n",
    "from sklearn.metrics import confusion_matrix, ConfusionMatrixDisplay\n",
    "import pandas as pd\n",
    "import matplotlib.pyplot as plt"
   ]
  }
 ],
 "metadata": {
  "language_info": {
   "name": "python"
  }
 },
 "nbformat": 4,
 "nbformat_minor": 2
}
