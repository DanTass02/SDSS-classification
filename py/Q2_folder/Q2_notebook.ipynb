{
  "nbformat": 4,
  "nbformat_minor": 0,
  "metadata": {
    "colab": {
      "provenance": []
    },
    "kernelspec": {
      "name": "python3",
      "display_name": "Python 3"
    },
    "language_info": {
      "name": "python"
    }
  },
  "cells": [
    {
      "cell_type": "markdown",
      "source": [
        "# SDSS DR14 classification using neural networks\n",
        "\n",
        "Having previously explored how to classify the celestial objects from this data set using a decision tree, we will now look at a neural network (NN) approach and compare the two approaches."
      ],
      "metadata": {
        "id": "PNyqNFU8BoUi"
      }
    },
    {
      "cell_type": "markdown",
      "source": [
        "# Installing necessary libraries\n",
        "\n",
        "Once again we begin by installing the libraries that we require to build our NN.\n",
        "Generally, the main library used for building these NNs is `TensorFlow`, but here we will be using `PyTorch` as here we can take a more detailed look into what is happeing behind the scenes of the NN."
      ],
      "metadata": {
        "id": "x4W-eWYaCBMz"
      }
    },
    {
      "cell_type": "code",
      "source": [
        "import torch\n",
        "import torch.nn as nn\n",
        "import torch.optim as optim\n",
        "from torch.utils.data import DataLoader, TensorDataset\n",
        "from sklearn.model_selection import train_test_split\n",
        "from sklearn.preprocessing import LabelEncoder, StandardScaler\n",
        "from sklearn.metrics import classification_report\n",
        "import seaborn as sns\n",
        "from sklearn.metrics import confusion_matrix, ConfusionMatrixDisplay\n",
        "import pandas as pd\n",
        "import matplotlib.pyplot as plt"
      ],
      "metadata": {
        "id": "GXyfUutZCy_p"
      },
      "execution_count": 1,
      "outputs": []
    },
    {
      "cell_type": "markdown",
      "source": [
        "# Loading the dataset\n",
        "\n",
        "Similarly to before, we will load the dataset as well as exploring the distributions of classes."
      ],
      "metadata": {
        "id": "-Yh3zOWiDNVz"
      }
    },
    {
      "cell_type": "code",
      "source": [
        "data = pd.read_csv('Skyserver_SQL2_27_2018 6_51_39 PM.csv')"
      ],
      "metadata": {
        "id": "VBzyPJwYDdwx"
      },
      "execution_count": 3,
      "outputs": []
    },
    {
      "cell_type": "markdown",
      "source": [
        "We'll now look at the first few rows of the data again, as well as plotting the distributions of the classes in the dataset."
      ],
      "metadata": {
        "id": "0KwPxQWsFGmQ"
      }
    },
    {
      "cell_type": "code",
      "source": [
        "pd.set_option('display.max_columns', None)\n",
        "pd.set_option('display.max_rows', None)\n",
        "\n",
        "data.head()"
      ],
      "metadata": {
        "colab": {
          "base_uri": "https://localhost:8080/",
          "height": 206
        },
        "id": "NmpimU6_FPD3",
        "outputId": "df94a5aa-515a-420e-c2c5-5e804930f99a"
      },
      "execution_count": 4,
      "outputs": [
        {
          "output_type": "execute_result",
          "data": {
            "text/plain": [
              "          objid          ra       dec         u         g         r         i  \\\n",
              "0  1.237650e+18  183.531326  0.089693  19.47406  17.04240  15.94699  15.50342   \n",
              "1  1.237650e+18  183.598370  0.135285  18.66280  17.21449  16.67637  16.48922   \n",
              "2  1.237650e+18  183.680207  0.126185  19.38298  18.19169  17.47428  17.08732   \n",
              "3  1.237650e+18  183.870529  0.049911  17.76536  16.60272  16.16116  15.98233   \n",
              "4  1.237650e+18  183.883288  0.102557  17.55025  16.26342  16.43869  16.55492   \n",
              "\n",
              "          z  run  rerun  camcol  field     specobjid   class  redshift  plate  \\\n",
              "0  15.22531  752    301       4    267  3.722360e+18    STAR -0.000009   3306   \n",
              "1  16.39150  752    301       4    267  3.638140e+17    STAR -0.000055    323   \n",
              "2  16.80125  752    301       4    268  3.232740e+17  GALAXY  0.123111    287   \n",
              "3  15.90438  752    301       4    269  3.722370e+18    STAR -0.000111   3306   \n",
              "4  16.61326  752    301       4    269  3.722370e+18    STAR  0.000590   3306   \n",
              "\n",
              "     mjd  fiberid  \n",
              "0  54922      491  \n",
              "1  51615      541  \n",
              "2  52023      513  \n",
              "3  54922      510  \n",
              "4  54922      512  "
            ],
            "text/html": [
              "\n",
              "  <div id=\"df-4ffb8bb1-8d0a-43d6-aa7d-2fea5a21d90d\" class=\"colab-df-container\">\n",
              "    <div>\n",
              "<style scoped>\n",
              "    .dataframe tbody tr th:only-of-type {\n",
              "        vertical-align: middle;\n",
              "    }\n",
              "\n",
              "    .dataframe tbody tr th {\n",
              "        vertical-align: top;\n",
              "    }\n",
              "\n",
              "    .dataframe thead th {\n",
              "        text-align: right;\n",
              "    }\n",
              "</style>\n",
              "<table border=\"1\" class=\"dataframe\">\n",
              "  <thead>\n",
              "    <tr style=\"text-align: right;\">\n",
              "      <th></th>\n",
              "      <th>objid</th>\n",
              "      <th>ra</th>\n",
              "      <th>dec</th>\n",
              "      <th>u</th>\n",
              "      <th>g</th>\n",
              "      <th>r</th>\n",
              "      <th>i</th>\n",
              "      <th>z</th>\n",
              "      <th>run</th>\n",
              "      <th>rerun</th>\n",
              "      <th>camcol</th>\n",
              "      <th>field</th>\n",
              "      <th>specobjid</th>\n",
              "      <th>class</th>\n",
              "      <th>redshift</th>\n",
              "      <th>plate</th>\n",
              "      <th>mjd</th>\n",
              "      <th>fiberid</th>\n",
              "    </tr>\n",
              "  </thead>\n",
              "  <tbody>\n",
              "    <tr>\n",
              "      <th>0</th>\n",
              "      <td>1.237650e+18</td>\n",
              "      <td>183.531326</td>\n",
              "      <td>0.089693</td>\n",
              "      <td>19.47406</td>\n",
              "      <td>17.04240</td>\n",
              "      <td>15.94699</td>\n",
              "      <td>15.50342</td>\n",
              "      <td>15.22531</td>\n",
              "      <td>752</td>\n",
              "      <td>301</td>\n",
              "      <td>4</td>\n",
              "      <td>267</td>\n",
              "      <td>3.722360e+18</td>\n",
              "      <td>STAR</td>\n",
              "      <td>-0.000009</td>\n",
              "      <td>3306</td>\n",
              "      <td>54922</td>\n",
              "      <td>491</td>\n",
              "    </tr>\n",
              "    <tr>\n",
              "      <th>1</th>\n",
              "      <td>1.237650e+18</td>\n",
              "      <td>183.598370</td>\n",
              "      <td>0.135285</td>\n",
              "      <td>18.66280</td>\n",
              "      <td>17.21449</td>\n",
              "      <td>16.67637</td>\n",
              "      <td>16.48922</td>\n",
              "      <td>16.39150</td>\n",
              "      <td>752</td>\n",
              "      <td>301</td>\n",
              "      <td>4</td>\n",
              "      <td>267</td>\n",
              "      <td>3.638140e+17</td>\n",
              "      <td>STAR</td>\n",
              "      <td>-0.000055</td>\n",
              "      <td>323</td>\n",
              "      <td>51615</td>\n",
              "      <td>541</td>\n",
              "    </tr>\n",
              "    <tr>\n",
              "      <th>2</th>\n",
              "      <td>1.237650e+18</td>\n",
              "      <td>183.680207</td>\n",
              "      <td>0.126185</td>\n",
              "      <td>19.38298</td>\n",
              "      <td>18.19169</td>\n",
              "      <td>17.47428</td>\n",
              "      <td>17.08732</td>\n",
              "      <td>16.80125</td>\n",
              "      <td>752</td>\n",
              "      <td>301</td>\n",
              "      <td>4</td>\n",
              "      <td>268</td>\n",
              "      <td>3.232740e+17</td>\n",
              "      <td>GALAXY</td>\n",
              "      <td>0.123111</td>\n",
              "      <td>287</td>\n",
              "      <td>52023</td>\n",
              "      <td>513</td>\n",
              "    </tr>\n",
              "    <tr>\n",
              "      <th>3</th>\n",
              "      <td>1.237650e+18</td>\n",
              "      <td>183.870529</td>\n",
              "      <td>0.049911</td>\n",
              "      <td>17.76536</td>\n",
              "      <td>16.60272</td>\n",
              "      <td>16.16116</td>\n",
              "      <td>15.98233</td>\n",
              "      <td>15.90438</td>\n",
              "      <td>752</td>\n",
              "      <td>301</td>\n",
              "      <td>4</td>\n",
              "      <td>269</td>\n",
              "      <td>3.722370e+18</td>\n",
              "      <td>STAR</td>\n",
              "      <td>-0.000111</td>\n",
              "      <td>3306</td>\n",
              "      <td>54922</td>\n",
              "      <td>510</td>\n",
              "    </tr>\n",
              "    <tr>\n",
              "      <th>4</th>\n",
              "      <td>1.237650e+18</td>\n",
              "      <td>183.883288</td>\n",
              "      <td>0.102557</td>\n",
              "      <td>17.55025</td>\n",
              "      <td>16.26342</td>\n",
              "      <td>16.43869</td>\n",
              "      <td>16.55492</td>\n",
              "      <td>16.61326</td>\n",
              "      <td>752</td>\n",
              "      <td>301</td>\n",
              "      <td>4</td>\n",
              "      <td>269</td>\n",
              "      <td>3.722370e+18</td>\n",
              "      <td>STAR</td>\n",
              "      <td>0.000590</td>\n",
              "      <td>3306</td>\n",
              "      <td>54922</td>\n",
              "      <td>512</td>\n",
              "    </tr>\n",
              "  </tbody>\n",
              "</table>\n",
              "</div>\n",
              "    <div class=\"colab-df-buttons\">\n",
              "\n",
              "  <div class=\"colab-df-container\">\n",
              "    <button class=\"colab-df-convert\" onclick=\"convertToInteractive('df-4ffb8bb1-8d0a-43d6-aa7d-2fea5a21d90d')\"\n",
              "            title=\"Convert this dataframe to an interactive table.\"\n",
              "            style=\"display:none;\">\n",
              "\n",
              "  <svg xmlns=\"http://www.w3.org/2000/svg\" height=\"24px\" viewBox=\"0 -960 960 960\">\n",
              "    <path d=\"M120-120v-720h720v720H120Zm60-500h600v-160H180v160Zm220 220h160v-160H400v160Zm0 220h160v-160H400v160ZM180-400h160v-160H180v160Zm440 0h160v-160H620v160ZM180-180h160v-160H180v160Zm440 0h160v-160H620v160Z\"/>\n",
              "  </svg>\n",
              "    </button>\n",
              "\n",
              "  <style>\n",
              "    .colab-df-container {\n",
              "      display:flex;\n",
              "      gap: 12px;\n",
              "    }\n",
              "\n",
              "    .colab-df-convert {\n",
              "      background-color: #E8F0FE;\n",
              "      border: none;\n",
              "      border-radius: 50%;\n",
              "      cursor: pointer;\n",
              "      display: none;\n",
              "      fill: #1967D2;\n",
              "      height: 32px;\n",
              "      padding: 0 0 0 0;\n",
              "      width: 32px;\n",
              "    }\n",
              "\n",
              "    .colab-df-convert:hover {\n",
              "      background-color: #E2EBFA;\n",
              "      box-shadow: 0px 1px 2px rgba(60, 64, 67, 0.3), 0px 1px 3px 1px rgba(60, 64, 67, 0.15);\n",
              "      fill: #174EA6;\n",
              "    }\n",
              "\n",
              "    .colab-df-buttons div {\n",
              "      margin-bottom: 4px;\n",
              "    }\n",
              "\n",
              "    [theme=dark] .colab-df-convert {\n",
              "      background-color: #3B4455;\n",
              "      fill: #D2E3FC;\n",
              "    }\n",
              "\n",
              "    [theme=dark] .colab-df-convert:hover {\n",
              "      background-color: #434B5C;\n",
              "      box-shadow: 0px 1px 3px 1px rgba(0, 0, 0, 0.15);\n",
              "      filter: drop-shadow(0px 1px 2px rgba(0, 0, 0, 0.3));\n",
              "      fill: #FFFFFF;\n",
              "    }\n",
              "  </style>\n",
              "\n",
              "    <script>\n",
              "      const buttonEl =\n",
              "        document.querySelector('#df-4ffb8bb1-8d0a-43d6-aa7d-2fea5a21d90d button.colab-df-convert');\n",
              "      buttonEl.style.display =\n",
              "        google.colab.kernel.accessAllowed ? 'block' : 'none';\n",
              "\n",
              "      async function convertToInteractive(key) {\n",
              "        const element = document.querySelector('#df-4ffb8bb1-8d0a-43d6-aa7d-2fea5a21d90d');\n",
              "        const dataTable =\n",
              "          await google.colab.kernel.invokeFunction('convertToInteractive',\n",
              "                                                    [key], {});\n",
              "        if (!dataTable) return;\n",
              "\n",
              "        const docLinkHtml = 'Like what you see? Visit the ' +\n",
              "          '<a target=\"_blank\" href=https://colab.research.google.com/notebooks/data_table.ipynb>data table notebook</a>'\n",
              "          + ' to learn more about interactive tables.';\n",
              "        element.innerHTML = '';\n",
              "        dataTable['output_type'] = 'display_data';\n",
              "        await google.colab.output.renderOutput(dataTable, element);\n",
              "        const docLink = document.createElement('div');\n",
              "        docLink.innerHTML = docLinkHtml;\n",
              "        element.appendChild(docLink);\n",
              "      }\n",
              "    </script>\n",
              "  </div>\n",
              "\n",
              "\n",
              "<div id=\"df-3849ab0f-2d09-481e-805d-ba8c88185467\">\n",
              "  <button class=\"colab-df-quickchart\" onclick=\"quickchart('df-3849ab0f-2d09-481e-805d-ba8c88185467')\"\n",
              "            title=\"Suggest charts\"\n",
              "            style=\"display:none;\">\n",
              "\n",
              "<svg xmlns=\"http://www.w3.org/2000/svg\" height=\"24px\"viewBox=\"0 0 24 24\"\n",
              "     width=\"24px\">\n",
              "    <g>\n",
              "        <path d=\"M19 3H5c-1.1 0-2 .9-2 2v14c0 1.1.9 2 2 2h14c1.1 0 2-.9 2-2V5c0-1.1-.9-2-2-2zM9 17H7v-7h2v7zm4 0h-2V7h2v10zm4 0h-2v-4h2v4z\"/>\n",
              "    </g>\n",
              "</svg>\n",
              "  </button>\n",
              "\n",
              "<style>\n",
              "  .colab-df-quickchart {\n",
              "      --bg-color: #E8F0FE;\n",
              "      --fill-color: #1967D2;\n",
              "      --hover-bg-color: #E2EBFA;\n",
              "      --hover-fill-color: #174EA6;\n",
              "      --disabled-fill-color: #AAA;\n",
              "      --disabled-bg-color: #DDD;\n",
              "  }\n",
              "\n",
              "  [theme=dark] .colab-df-quickchart {\n",
              "      --bg-color: #3B4455;\n",
              "      --fill-color: #D2E3FC;\n",
              "      --hover-bg-color: #434B5C;\n",
              "      --hover-fill-color: #FFFFFF;\n",
              "      --disabled-bg-color: #3B4455;\n",
              "      --disabled-fill-color: #666;\n",
              "  }\n",
              "\n",
              "  .colab-df-quickchart {\n",
              "    background-color: var(--bg-color);\n",
              "    border: none;\n",
              "    border-radius: 50%;\n",
              "    cursor: pointer;\n",
              "    display: none;\n",
              "    fill: var(--fill-color);\n",
              "    height: 32px;\n",
              "    padding: 0;\n",
              "    width: 32px;\n",
              "  }\n",
              "\n",
              "  .colab-df-quickchart:hover {\n",
              "    background-color: var(--hover-bg-color);\n",
              "    box-shadow: 0 1px 2px rgba(60, 64, 67, 0.3), 0 1px 3px 1px rgba(60, 64, 67, 0.15);\n",
              "    fill: var(--button-hover-fill-color);\n",
              "  }\n",
              "\n",
              "  .colab-df-quickchart-complete:disabled,\n",
              "  .colab-df-quickchart-complete:disabled:hover {\n",
              "    background-color: var(--disabled-bg-color);\n",
              "    fill: var(--disabled-fill-color);\n",
              "    box-shadow: none;\n",
              "  }\n",
              "\n",
              "  .colab-df-spinner {\n",
              "    border: 2px solid var(--fill-color);\n",
              "    border-color: transparent;\n",
              "    border-bottom-color: var(--fill-color);\n",
              "    animation:\n",
              "      spin 1s steps(1) infinite;\n",
              "  }\n",
              "\n",
              "  @keyframes spin {\n",
              "    0% {\n",
              "      border-color: transparent;\n",
              "      border-bottom-color: var(--fill-color);\n",
              "      border-left-color: var(--fill-color);\n",
              "    }\n",
              "    20% {\n",
              "      border-color: transparent;\n",
              "      border-left-color: var(--fill-color);\n",
              "      border-top-color: var(--fill-color);\n",
              "    }\n",
              "    30% {\n",
              "      border-color: transparent;\n",
              "      border-left-color: var(--fill-color);\n",
              "      border-top-color: var(--fill-color);\n",
              "      border-right-color: var(--fill-color);\n",
              "    }\n",
              "    40% {\n",
              "      border-color: transparent;\n",
              "      border-right-color: var(--fill-color);\n",
              "      border-top-color: var(--fill-color);\n",
              "    }\n",
              "    60% {\n",
              "      border-color: transparent;\n",
              "      border-right-color: var(--fill-color);\n",
              "    }\n",
              "    80% {\n",
              "      border-color: transparent;\n",
              "      border-right-color: var(--fill-color);\n",
              "      border-bottom-color: var(--fill-color);\n",
              "    }\n",
              "    90% {\n",
              "      border-color: transparent;\n",
              "      border-bottom-color: var(--fill-color);\n",
              "    }\n",
              "  }\n",
              "</style>\n",
              "\n",
              "  <script>\n",
              "    async function quickchart(key) {\n",
              "      const quickchartButtonEl =\n",
              "        document.querySelector('#' + key + ' button');\n",
              "      quickchartButtonEl.disabled = true;  // To prevent multiple clicks.\n",
              "      quickchartButtonEl.classList.add('colab-df-spinner');\n",
              "      try {\n",
              "        const charts = await google.colab.kernel.invokeFunction(\n",
              "            'suggestCharts', [key], {});\n",
              "      } catch (error) {\n",
              "        console.error('Error during call to suggestCharts:', error);\n",
              "      }\n",
              "      quickchartButtonEl.classList.remove('colab-df-spinner');\n",
              "      quickchartButtonEl.classList.add('colab-df-quickchart-complete');\n",
              "    }\n",
              "    (() => {\n",
              "      let quickchartButtonEl =\n",
              "        document.querySelector('#df-3849ab0f-2d09-481e-805d-ba8c88185467 button');\n",
              "      quickchartButtonEl.style.display =\n",
              "        google.colab.kernel.accessAllowed ? 'block' : 'none';\n",
              "    })();\n",
              "  </script>\n",
              "</div>\n",
              "\n",
              "    </div>\n",
              "  </div>\n"
            ],
            "application/vnd.google.colaboratory.intrinsic+json": {
              "type": "dataframe",
              "variable_name": "data",
              "summary": "{\n  \"name\": \"data\",\n  \"rows\": 10000,\n  \"fields\": [\n    {\n      \"column\": \"objid\",\n      \"properties\": {\n        \"dtype\": \"number\",\n        \"std\": 157703.88539140928,\n        \"min\": 1.23765e+18,\n        \"max\": 1.23765e+18,\n        \"num_unique_values\": 1,\n        \"samples\": [\n          1.23765e+18\n        ],\n        \"semantic_type\": \"\",\n        \"description\": \"\"\n      }\n    },\n    {\n      \"column\": \"ra\",\n      \"properties\": {\n        \"dtype\": \"number\",\n        \"std\": 47.78343941253625,\n        \"min\": 8.235100497,\n        \"max\": 260.8843818,\n        \"num_unique_values\": 10000,\n        \"samples\": [\n          134.6492674\n        ],\n        \"semantic_type\": \"\",\n        \"description\": \"\"\n      }\n    },\n    {\n      \"column\": \"dec\",\n      \"properties\": {\n        \"dtype\": \"number\",\n        \"std\": 25.21220657928434,\n        \"min\": -5.382632499,\n        \"max\": 68.54226541,\n        \"num_unique_values\": 10000,\n        \"samples\": [\n          54.38634445\n        ],\n        \"semantic_type\": \"\",\n        \"description\": \"\"\n      }\n    },\n    {\n      \"column\": \"u\",\n      \"properties\": {\n        \"dtype\": \"number\",\n        \"std\": 0.8286560094113746,\n        \"min\": 12.98897,\n        \"max\": 19.5999,\n        \"num_unique_values\": 9730,\n        \"samples\": [\n          16.99432\n        ],\n        \"semantic_type\": \"\",\n        \"description\": \"\"\n      }\n    },\n    {\n      \"column\": \"g\",\n      \"properties\": {\n        \"dtype\": \"number\",\n        \"std\": 0.9454571752688135,\n        \"min\": 12.79955,\n        \"max\": 19.91897,\n        \"num_unique_values\": 9817,\n        \"samples\": [\n          17.88955\n        ],\n        \"semantic_type\": \"\",\n        \"description\": \"\"\n      }\n    },\n    {\n      \"column\": \"r\",\n      \"properties\": {\n        \"dtype\": \"number\",\n        \"std\": 1.0677643494029374,\n        \"min\": 12.4316,\n        \"max\": 24.80204,\n        \"num_unique_values\": 9852,\n        \"samples\": [\n          17.62294\n        ],\n        \"semantic_type\": \"\",\n        \"description\": \"\"\n      }\n    },\n    {\n      \"column\": \"i\",\n      \"properties\": {\n        \"dtype\": \"number\",\n        \"std\": 1.1418048192775534,\n        \"min\": 11.94721,\n        \"max\": 28.17963,\n        \"num_unique_values\": 9890,\n        \"samples\": [\n          17.2252\n        ],\n        \"semantic_type\": \"\",\n        \"description\": \"\"\n      }\n    },\n    {\n      \"column\": \"z\",\n      \"properties\": {\n        \"dtype\": \"number\",\n        \"std\": 1.2031880475759795,\n        \"min\": 11.61041,\n        \"max\": 22.83306,\n        \"num_unique_values\": 9896,\n        \"samples\": [\n          17.83397\n        ],\n        \"semantic_type\": \"\",\n        \"description\": \"\"\n      }\n    },\n    {\n      \"column\": \"run\",\n      \"properties\": {\n        \"dtype\": \"number\",\n        \"std\": 273,\n        \"min\": 308,\n        \"max\": 1412,\n        \"num_unique_values\": 23,\n        \"samples\": [\n          1345\n        ],\n        \"semantic_type\": \"\",\n        \"description\": \"\"\n      }\n    },\n    {\n      \"column\": \"rerun\",\n      \"properties\": {\n        \"dtype\": \"number\",\n        \"std\": 0,\n        \"min\": 301,\n        \"max\": 301,\n        \"num_unique_values\": 1,\n        \"samples\": [\n          301\n        ],\n        \"semantic_type\": \"\",\n        \"description\": \"\"\n      }\n    },\n    {\n      \"column\": \"camcol\",\n      \"properties\": {\n        \"dtype\": \"number\",\n        \"std\": 1,\n        \"min\": 1,\n        \"max\": 6,\n        \"num_unique_values\": 6,\n        \"samples\": [\n          4\n        ],\n        \"semantic_type\": \"\",\n        \"description\": \"\"\n      }\n    },\n    {\n      \"column\": \"field\",\n      \"properties\": {\n        \"dtype\": \"number\",\n        \"std\": 162,\n        \"min\": 11,\n        \"max\": 768,\n        \"num_unique_values\": 703,\n        \"samples\": [\n          621\n        ],\n        \"semantic_type\": \"\",\n        \"description\": \"\"\n      }\n    },\n    {\n      \"column\": \"specobjid\",\n      \"properties\": {\n        \"dtype\": \"number\",\n        \"std\": 2.0139984928669066e+18,\n        \"min\": 2.99578e+17,\n        \"max\": 9.46883e+18,\n        \"num_unique_values\": 6349,\n        \"samples\": [\n          3.11946e+17\n        ],\n        \"semantic_type\": \"\",\n        \"description\": \"\"\n      }\n    },\n    {\n      \"column\": \"class\",\n      \"properties\": {\n        \"dtype\": \"category\",\n        \"num_unique_values\": 3,\n        \"samples\": [\n          \"STAR\"\n        ],\n        \"semantic_type\": \"\",\n        \"description\": \"\"\n      }\n    },\n    {\n      \"column\": \"redshift\",\n      \"properties\": {\n        \"dtype\": \"number\",\n        \"std\": 0.38877403581146536,\n        \"min\": -0.004136078,\n        \"max\": 5.353854,\n        \"num_unique_values\": 9637,\n        \"samples\": [\n          0.000189883\n        ],\n        \"semantic_type\": \"\",\n        \"description\": \"\"\n      }\n    },\n    {\n      \"column\": \"plate\",\n      \"properties\": {\n        \"dtype\": \"number\",\n        \"std\": 1788,\n        \"min\": 266,\n        \"max\": 8410,\n        \"num_unique_values\": 487,\n        \"samples\": [\n          3848\n        ],\n        \"semantic_type\": \"\",\n        \"description\": \"\"\n      }\n    },\n    {\n      \"column\": \"mjd\",\n      \"properties\": {\n        \"dtype\": \"number\",\n        \"std\": 1511,\n        \"min\": 51578,\n        \"max\": 57481,\n        \"num_unique_values\": 355,\n        \"samples\": [\n          54862\n        ],\n        \"semantic_type\": \"\",\n        \"description\": \"\"\n      }\n    },\n    {\n      \"column\": \"fiberid\",\n      \"properties\": {\n        \"dtype\": \"number\",\n        \"std\": 206,\n        \"min\": 1,\n        \"max\": 1000,\n        \"num_unique_values\": 892,\n        \"samples\": [\n          658\n        ],\n        \"semantic_type\": \"\",\n        \"description\": \"\"\n      }\n    }\n  ]\n}"
            }
          },
          "metadata": {},
          "execution_count": 4
        }
      ]
    },
    {
      "cell_type": "code",
      "source": [
        "data['class'].value_counts().plot(kind='bar', color=['b', 'y', 'r'])\n",
        "plt.title(\"Distribution of Classes\")\n",
        "plt.xlabel(\"Class\")\n",
        "plt.ylabel(\"Count\")\n",
        "plt.xticks(rotation=0)\n",
        "plt.show()"
      ],
      "metadata": {
        "colab": {
          "base_uri": "https://localhost:8080/",
          "height": 472
        },
        "id": "AAI5YWtlFluz",
        "outputId": "dd811475-d6a1-4ff9-9ffd-c5e7da641cdb"
      },
      "execution_count": 5,
      "outputs": [
        {
          "output_type": "display_data",
          "data": {
            "text/plain": [
              "<Figure size 640x480 with 1 Axes>"
            ],
            "image/png": "[encoded data removed]"
          },
          "metadata": {}
        }
      ]
    },
    {
      "cell_type": "markdown",
      "source": [
        "# Preprocessing the data\n",
        "\n",
        "In this section we will preprocess the data before defining our NN. This will ensure that data is in a form suitable for training the NN effectively. The main steps we will take here are:\n",
        "\n",
        "- Selecting relevant features\n",
        "- Encoding target labels\n",
        "- Normalising features\n",
        "- Train-Test split\n",
        "- Converting to tensors"
      ],
      "metadata": {
        "id": "6eMSv_M-F5gI"
      }
    },
    {
      "cell_type": "code",
      "source": [
        "# Selecting only the relevant features\n",
        "features = ['u', 'g', 'r', 'i', 'z']\n",
        "X = data[features]\n",
        "y = data['class']\n",
        "\n",
        "#Encode the target variables\n",
        "label_encoder = LabelEncoder()\n",
        "y_encoded = label_encoder.fit_transform(y)\n",
        "\n",
        "# Normalize the features\n",
        "scaler = StandardScaler()\n",
        "X_scaled = scaler.fit_transform(X)\n",
        "\n",
        "# Split the data\n",
        "X_train, X_test, y_train, y_test = train_test_split(X_scaled, y_encoded, test_size=0.2, random_state=42)\n",
        "\n",
        "# Convert to PyTorch tensors\n",
        "X_train_tensor = torch.tensor(X_train, dtype=torch.float32)\n",
        "y_train_tensor = torch.tensor(y_train, dtype=torch.long)\n",
        "X_test_tensor = torch.tensor(X_test, dtype=torch.float32)\n",
        "y_test_tensor = torch.tensor(y_test, dtype=torch.long)\n",
        "\n",
        "# Create DataLoaders\n",
        "train_dataset = TensorDataset(X_train_tensor, y_train_tensor)\n",
        "test_dataset = TensorDataset(X_test_tensor, y_test_tensor)\n",
        "train_loader = DataLoader(train_dataset, batch_size=64, shuffle=True)\n",
        "test_loader = DataLoader(test_dataset, batch_size=64, shuffle=False)"
      ],
      "metadata": {
        "id": "RXRqU-MlIS01"
      },
      "execution_count": 15,
      "outputs": []
    },
    {
      "cell_type": "markdown",
      "source": [
        "We have seen in the previous notebook: the features that we have selected as well as using `train_test_split`, however there are some new features here.\n",
        "\n",
        "`label_encoder` assigns numerical values to each of the classes, with `STAR` being `0`, `GALAXY` being `1` and `QSO` being `2`\n",
        "\n",
        "We also introduce the normalisation of the selected features, this is because each of the magnitudes in the different filters might have different ranges, and NNs are sensitive to the scale of input data, and large differences in feature scales can cause unstable training. By using `StandardScaler`, we ensure that all features have a mean of 0 and a standard deviation of 1 which improves the models performance and training stability.\n",
        "\n",
        "Furthermore, we also convert the data into tensors. This is because PyTorch operates in tensors and converting the data allows it to be used by PyTorch's data loaders and NN layers."
      ],
      "metadata": {
        "id": "wzuuX2OGOdqV"
      }
    },
    {
      "cell_type": "markdown",
      "source": [
        "# Defining  and initialising the neural network\n",
        "\n",
        "Now that the data has been preprocessed we can move on to building our NN."
      ],
      "metadata": {
        "id": "hH5OO8qmTuAC"
      }
    },
    {
      "cell_type": "code",
      "source": [
        "class StarGalaxyQuasarClassifier(nn.Module):\n",
        "    def __init__(self):\n",
        "        super(StarGalaxyQuasarClassifier, self).__init__()\n",
        "        self.fc1 = nn.Linear(5, 64)\n",
        "        self.fc2 = nn.Linear(64, 32)\n",
        "        self.fc3 = nn.Linear(32, 3)\n",
        "        self.relu = nn.ReLU()\n",
        "        self.dropout = nn.Dropout(0.3)\n",
        "\n",
        "    def forward(self, x):\n",
        "        x = self.relu(self.fc1(x))\n",
        "        x = self.dropout(x)\n",
        "        x = self.relu(self.fc2(x))\n",
        "        x = self.fc3(x)\n",
        "        return x"
      ],
      "metadata": {
        "id": "EV3kK9a3VUwF"
      },
      "execution_count": 16,
      "outputs": []
    },
    {
      "cell_type": "markdown",
      "source": [
        "This might look complex but we can break down what is happening here.\n",
        "First we define a custom neural network class, which in our case is name `StarGalaxyQuasarClassifier`. It comes from the `nn.Module` which is the base class for all neural networks in PyTorch.\n",
        "\n",
        "`__init__` initialses the layers and the components of the network. The `forward` method defines how data flows through the NN when inputs are put through it.\n",
        "\n",
        "The overall architechture for this NN are as follows:\n",
        "- Input layer: Take 5 features as an input\n",
        "- Hidden layers:\n",
        "-First layer: fully connected with 64 neurons and ReLU activation\n",
        "- Dropout: Regularizes the model by randomly dropping activations.\n",
        "- Second layer: Fully connected with 32 neurons and ReLU activation.\n",
        "- Output layer: Fully connected with 3 neurons, one for each class\n",
        "\n",
        "With our NN defined we can now initialise it, as well as the loss function and optimiser."
      ],
      "metadata": {
        "id": "CK3yUO6wXtrY"
      }
    },
    {
      "cell_type": "code",
      "source": [
        "model = StarGalaxyQuasarClassifier()"
      ],
      "metadata": {
        "id": "0bPaEedOItON"
      },
      "execution_count": 17,
      "outputs": []
    },
    {
      "cell_type": "markdown",
      "source": [
        "Now our model is ready to be trained with the dataset!"
      ],
      "metadata": {
        "id": "TYJsiIgaJRS-"
      }
    },
    {
      "cell_type": "markdown",
      "source": [
        "# Training and evaluating the model\n",
        "\n",
        "With the newly definied and initialised NN, we can now move onto training our model and evaluating it's performance. We'll look at the loss history of the model over it's epochs, as well as generating a classification report and a confusion matrix."
      ],
      "metadata": {
        "id": "VPgoe11aJamU"
      }
    },
    {
      "cell_type": "code",
      "source": [
        "def train_model(model, train_loader, criterion, optimizer, epochs=20):\n",
        "    model.train() # Set model into training mode\n",
        "    loss_history = [] # Create an array to store average loss\n",
        "    for epoch in range(epochs): # Iterate through the training process\n",
        "        running_loss = 0.0\n",
        "        for inputs, labels in train_loader: # loop through train_loader\n",
        "            optimizer.zero_grad() # Clear gradients from previous epochs\n",
        "            outputs = model(inputs) # Forward pass\n",
        "            loss = criterion(outputs, labels) # Compute loss\n",
        "            loss.backward()\n",
        "            optimizer.step() # Adjusts moodel's weights based on previous back propagation\n",
        "            running_loss += loss.item() # Accumulate the loss\n",
        "        epoch_loss = running_loss / len(train_loader) # Loss for each epoch\n",
        "        loss_history.append(epoch_loss) # Record the loss\n",
        "        print(f\"Epoch {epoch+1}/{epochs}, Loss: {epoch_loss:.4f}\")\n",
        "    return loss_history"
      ],
      "metadata": {
        "id": "n0gIU72MJ0Lg"
      },
      "execution_count": 18,
      "outputs": []
    },
    {
      "cell_type": "markdown",
      "source": [
        "A breakdown of what is happening here is listed in te comments, but lets explore what the training function takes as arguments:\n",
        "\n",
        "- `model`: which is the NN we defined\n",
        "- `train_loader`: data loader containing the training data and labels\n",
        "- `criterion`: the loss function used to calculate the error\n",
        "- `optimizer`: optimisation algorithm which updates the model's weights\n",
        "- `epochs`: number of training cycles, for simplicity we will keep this at 20\n",
        "\n",
        "Now we'll set up the training components.\n"
      ],
      "metadata": {
        "id": "VNXaLbSYLLXx"
      }
    },
    {
      "cell_type": "code",
      "source": [
        "criterion = nn.CrossEntropyLoss()\n",
        "optimizer = optim.Adam(model.parameters(), lr=0.001)"
      ],
      "metadata": {
        "id": "oxBFYwOgRtKn"
      },
      "execution_count": 19,
      "outputs": []
    },
    {
      "cell_type": "markdown",
      "source": [
        "`lr` is the learning rate, which determines the size of the steps that the optimiser takes when updating the weights.\n",
        "\n",
        "if `lr` is too high then it could potentially lead to overshooting the optimal solution. But if it is too low then it could mean that the model will take too long to train."
      ],
      "metadata": {
        "id": "apbLw1wpPmh3"
      }
    },
    {
      "cell_type": "markdown",
      "source": [
        "And then train the model.\n"
      ],
      "metadata": {
        "id": "1B1K2aF4SLwL"
      }
    },
    {
      "cell_type": "code",
      "source": [
        "loss_history = train_model(model, train_loader, criterion, optimizer, epochs=20)"
      ],
      "metadata": {
        "colab": {
          "base_uri": "https://localhost:8080/"
        },
        "id": "TDrQiYLpSQpa",
        "outputId": "6605d8c0-89e6-4420-ab5a-0192a6e1c02d"
      },
      "execution_count": 20,
      "outputs": [
        {
          "output_type": "stream",
          "name": "stdout",
          "text": [
            "Epoch 1/20, Loss: 0.7652\n",
            "Epoch 2/20, Loss: 0.5243\n",
            "Epoch 3/20, Loss: 0.4257\n",
            "Epoch 4/20, Loss: 0.3594\n",
            "Epoch 5/20, Loss: 0.3175\n",
            "Epoch 6/20, Loss: 0.2971\n",
            "Epoch 7/20, Loss: 0.2846\n",
            "Epoch 8/20, Loss: 0.2661\n",
            "Epoch 9/20, Loss: 0.2622\n",
            "Epoch 10/20, Loss: 0.2543\n",
            "Epoch 11/20, Loss: 0.2475\n",
            "Epoch 12/20, Loss: 0.2500\n",
            "Epoch 13/20, Loss: 0.2408\n",
            "Epoch 14/20, Loss: 0.2321\n",
            "Epoch 15/20, Loss: 0.2278\n",
            "Epoch 16/20, Loss: 0.2280\n",
            "Epoch 17/20, Loss: 0.2295\n",
            "Epoch 18/20, Loss: 0.2272\n",
            "Epoch 19/20, Loss: 0.2175\n",
            "Epoch 20/20, Loss: 0.2172\n"
          ]
        }
      ]
    },
    {
      "cell_type": "markdown",
      "source": [
        "Let's also take a look at the training loss over the epochs."
      ],
      "metadata": {
        "id": "rKhnQMjOWnlR"
      }
    },
    {
      "cell_type": "code",
      "source": [
        "plt.plot(range(1, len(loss_history) + 1), loss_history, marker='o', color='b')\n",
        "plt.title(\"Training Loss Over Epochs\")\n",
        "plt.xlabel(\"Epoch\")\n",
        "plt.ylabel(\"Loss\")\n",
        "plt.grid()\n",
        "plt.show()"
      ],
      "metadata": {
        "colab": {
          "base_uri": "https://localhost:8080/",
          "height": 472
        },
        "id": "TAobZQ0eWsol",
        "outputId": "0cac8453-80be-44e0-a889-01e86456b8b9"
      },
      "execution_count": 21,
      "outputs": [
        {
          "output_type": "display_data",
          "data": {
            "text/plain": [
              "<Figure size 640x480 with 1 Axes>"
            ],
            "image/png": "[encoded data removed]"
          },
          "metadata": {}
        }
      ]
    },
    {
      "cell_type": "markdown",
      "source": [
        "Now that the model is trained, we can then evaluate how it performs, as well as printing out a classification report and a confusion matrix."
      ],
      "metadata": {
        "id": "vn04abIUSofY"
      }
    },
    {
      "cell_type": "code",
      "source": [
        "def evaluate_model(model, test_loader):\n",
        "    model.eval()\n",
        "    all_preds = []\n",
        "    all_labels = []\n",
        "    correct = 0\n",
        "    total = 0\n",
        "    with torch.no_grad():\n",
        "        for inputs, labels in test_loader:\n",
        "            outputs = model(inputs)\n",
        "            _, predicted = torch.max(outputs, 1)\n",
        "            all_preds.extend(predicted.cpu().numpy())\n",
        "            all_labels.extend(labels.cpu().numpy())\n",
        "            correct += (predicted == labels).sum().item()\n",
        "            total += labels.size(0)\n",
        "\n",
        "    # Calculate accuracy\n",
        "    accuracy = 100 * correct / total\n",
        "    print(f\"Accuracy: {accuracy:.2f}%\")\n",
        "\n",
        "    # Generate classification report\n",
        "    print(\"Classification Report:\")\n",
        "    print(classification_report(all_labels, all_preds, target_names=label_encoder.classes_))\n",
        "\n",
        "    # Generate confusion matrix\n",
        "    cm = confusion_matrix(all_labels, all_preds)\n",
        "    sns.heatmap(cm, annot=True, fmt=\"d\", cmap=\"Blues\", xticklabels=label_encoder.classes_, yticklabels=label_encoder.classes_)\n",
        "    plt.title(\"Confusion Matrix\")\n",
        "    plt.xlabel(\"Predicted\")\n",
        "    plt.ylabel(\"True\")\n",
        "    plt.show()\n",
        "\n",
        "# Evaluate the model\n",
        "evaluate_model(model, test_loader)"
      ],
      "metadata": {
        "colab": {
          "base_uri": "https://localhost:8080/",
          "height": 680
        },
        "id": "kYeUTOqMSu37",
        "outputId": "7b0127fb-4799-4eeb-dbd8-5b40de138b55"
      },
      "execution_count": 22,
      "outputs": [
        {
          "output_type": "stream",
          "name": "stdout",
          "text": [
            "Accuracy: 93.80%\n",
            "Classification Report:\n",
            "              precision    recall  f1-score   support\n",
            "\n",
            "      GALAXY       0.97      0.92      0.95       996\n",
            "         QSO       0.91      0.91      0.91       190\n",
            "        STAR       0.91      0.96      0.93       814\n",
            "\n",
            "    accuracy                           0.94      2000\n",
            "   macro avg       0.93      0.93      0.93      2000\n",
            "weighted avg       0.94      0.94      0.94      2000\n",
            "\n"
          ]
        },
        {
          "output_type": "display_data",
          "data": {
            "text/plain": [
              "<Figure size 640x480 with 2 Axes>"
            ],
            "image/png": "[encoded data removed]"
          },
          "metadata": {}
        }
      ]
    },
    {
      "cell_type": "markdown",
      "source": [
        "# Comparison with decision tree\n",
        "\n",
        "Before we conclude this noteboook, let us compare our two approaches to tackling this classification problem.\n",
        "\n",
        "- **Accuracy**: When we built our decision tree (DT), it had a respectable accuracy of 74%, and without any optimisations or including any dominant features (such as redshift) this is a great result!\n",
        "However, as we can see, our NN is far more accurate with an impressive accuracy of 93.80%\n",
        "\n",
        "- **Overall performance**: The NN far outperforms the DT in every aspect here:\n",
        "\n",
        "\n",
        "1.   **Precision**: Overall the DT had a good precision, with `0.82, 0.83, 0.65` for `GALAXY, QSO, STAR` respectively, but as we see the `STAR` precision is n the lower end. Our NN on the otherhand, boasts and impressive showing of `0.97, 0.90, 0.92` for `GALAXY, QSO, STAR`.\n",
        "2.   **Recall**: NN performs much better here than our DT. The biggest difference comes in the `GALAXY` class, with a DT recall score of 67% compared to the NN's 92%. The higher recall score for the NN indicates that it was able to identify more true positives than the DT.\n",
        "3.   **f1 score**: Here the f1 score in the NN ranges from 0.93 to 0.95, whereas the DT has more of a range, being between 0.72 and 0.81. This means that the NN was better across ALL classes, and not just the most numerous class. This is important as there are significantly less quasars than stars and galaxies in this dataset.\n",
        "\n",
        "- **Practicality**: Overall, if we are looking to maximise the performance of our model, the NN is definitely the way to go - especially if our dataset is large. However, if we have a smaller dataset or if we need some quick,m interpretable results a DT may be used at the cost of some accuracy.\n",
        "\n"
      ],
      "metadata": {
        "id": "0VcTL0FkXB88"
      }
    },
    {
      "cell_type": "markdown",
      "source": [
        "# Conclusion\n",
        "\n",
        "In this notebook, we have explored how we can build a neural network to tackle this classification problem, as well as looking at the overall performance of the model.\n",
        "\n",
        "To take this model even further:\n",
        "- Try experimenting with different architectures (e.g. deeper networks or more neurons etc.)\n",
        "- Modify hyperparameters such as learning and dropout rates\n",
        "- Other optimisation alrorithms such as SGD"
      ],
      "metadata": {
        "id": "EaT1JgsgvlrI"
      }
    }
  ]
}